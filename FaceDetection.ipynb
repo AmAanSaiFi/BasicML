{
 "cells": [
  {
   "cell_type": "code",
   "execution_count": 1,
   "metadata": {},
   "outputs": [],
   "source": [
    "import cv2"
   ]
  },
  {
   "cell_type": "code",
   "execution_count": 2,
   "metadata": {},
   "outputs": [
    {
     "data": {
      "text/plain": [
       "array([[260,  68, 102, 102],\n",
       "       [137, 104,  83,  83],\n",
       "       [443, 119,  88,  88]], dtype=int32)"
      ]
     },
     "execution_count": 2,
     "metadata": {},
     "output_type": "execute_result"
    }
   ],
   "source": [
    "haar_data = cv2.CascadeClassifier('haarcascade_frontalface_default.xml')\n",
    "#haar_data2 = cv2.CascadeClassifier('haarcascade_eye.xml')\n",
    "img = cv2.imread('img_2.jpeg')\n",
    "\n",
    "haar_data.detectMultiScale(img)"
   ]
  },
  {
   "cell_type": "code",
   "execution_count": 3,
   "metadata": {},
   "outputs": [],
   "source": [
    "img = cv2.imread('img_2.jpeg')\n",
    "faces = haar_data.detectMultiScale(img)\n",
    "\n",
    "while True:\n",
    "    for x,y,w,h in faces:\n",
    "        cv2.rectangle(img, (x,y), (x+w, y+h), (255,0,0), 4)\n",
    "    cv2.imshow('result',img)\n",
    "    if cv2.waitKey(2) == 27:\n",
    "        break\n",
    "        \n",
    "cv2.destroyAllWindows()\n",
    "    "
   ]
  },
  {
   "cell_type": "code",
   "execution_count": 4,
   "metadata": {},
   "outputs": [],
   "source": [
    "# 0 - default camera\n",
    "# video path\n",
    "capture = cv2.VideoCapture(0)\n",
    "# capture = cv2.VideoCapture('video_1.wmv')\n",
    "i=0\n",
    "while True:\n",
    "    flag, img = capture.read()\n",
    "    if flag:\n",
    "        i+=1\n",
    "        faces = haar_data.detectMultiScale(img, 1.1)\n",
    "        for x,y,w,h in faces:\n",
    "            cv2.rectangle(img, (x,y), (x+w, y+h), (255,0,0), 4)\n",
    "            face = [y:y+h,x:x+w,:]\n",
    "        cv2.imshow('result',img)\n",
    "        #cv2.imwrite('images/img_{}.jpg'.format(i),face)\n",
    "        if cv2.waitKey(2) == 27:\n",
    "            break\n",
    "    else:\n",
    "        print(\"Camera not working\")\n",
    "        \n",
    "cv2.destroyAllWindows()\n",
    "capture.release()"
   ]
  },
  {
   "cell_type": "code",
   "execution_count": null,
   "metadata": {},
   "outputs": [],
   "source": []
  },
  {
   "cell_type": "code",
   "execution_count": null,
   "metadata": {},
   "outputs": [],
   "source": []
  }
 ],
 "metadata": {
  "kernelspec": {
   "display_name": "Python 3",
   "language": "python",
   "name": "python3"
  },
  "language_info": {
   "codemirror_mode": {
    "name": "ipython",
    "version": 3
   },
   "file_extension": ".py",
   "mimetype": "text/x-python",
   "name": "python",
   "nbconvert_exporter": "python",
   "pygments_lexer": "ipython3",
   "version": "3.8.2"
  }
 },
 "nbformat": 4,
 "nbformat_minor": 4
}
