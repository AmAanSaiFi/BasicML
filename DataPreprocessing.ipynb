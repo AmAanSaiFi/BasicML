{
 "cells": [
  {
   "cell_type": "code",
   "execution_count": 1,
   "id": "dd5ae602-665c-4d82-8513-68cc3b30c672",
   "metadata": {},
   "outputs": [],
   "source": [
    "# sklearn is a package which contains methods for data pre processing"
   ]
  },
  {
   "cell_type": "code",
   "execution_count": 2,
   "id": "d676b8cd-86a5-4ccb-a9ff-169bcaca6bf5",
   "metadata": {},
   "outputs": [],
   "source": [
    "import pandas as pd "
   ]
  },
  {
   "cell_type": "code",
   "execution_count": 3,
   "id": "c6722cb6-dd76-4c9d-9fb5-80c5c6f7a6d5",
   "metadata": {},
   "outputs": [],
   "source": [
    "import numpy as np"
   ]
  },
  {
   "cell_type": "code",
   "execution_count": 4,
   "id": "cfc178b0-c562-4370-a7db-2e754ccd3a23",
   "metadata": {},
   "outputs": [],
   "source": [
    "# Label Encoding\n",
    "from sklearn.preprocessing import LabelEncoder , OneHotEncoder"
   ]
  },
  {
   "cell_type": "code",
   "execution_count": 5,
   "id": "f9f40035-043d-4b26-98ef-634c0a8ae96e",
   "metadata": {},
   "outputs": [],
   "source": [
    "# Feature Scaling\n",
    "from sklearn.preprocessing import MinMaxScaler , StandardScaler"
   ]
  },
  {
   "cell_type": "code",
   "execution_count": 6,
   "id": "1b061522-2835-4159-9d18-66f12f865abf",
   "metadata": {},
   "outputs": [],
   "source": [
    "# Handle Missing Values\n",
    "from sklearn.impute import SimpleImputer"
   ]
  },
  {
   "cell_type": "code",
   "execution_count": 7,
   "id": "10bddff0-62b6-48c0-a64b-c601a1133413",
   "metadata": {},
   "outputs": [],
   "source": [
    "# Train Test Split\n",
    "from sklearn.model_selection import train_test_split"
   ]
  },
  {
   "cell_type": "code",
   "execution_count": 8,
   "id": "48f8fd39-76d6-4363-9f45-2735a68d1518",
   "metadata": {},
   "outputs": [],
   "source": [
    "data = {\n",
    "    'gender' : ['m','f','m','m','m','f','m','m','m','f'],\n",
    "    'country' : ['Ind','Aus','China','Aus','Ind','Aus','China','USA','Ind','China'],\n",
    "    'age' : [20,25,26,None,56,65,19,47,24,20],\n",
    "    'salary' : [57000,45000,56400,32000,78000,64000,None,40000,34000,45000]\n",
    "}"
   ]
  },
  {
   "cell_type": "code",
   "execution_count": 9,
   "id": "3775d58b-2746-4171-9349-b84096051e38",
   "metadata": {},
   "outputs": [],
   "source": [
    "df = pd.DataFrame(data)"
   ]
  },
  {
   "cell_type": "code",
   "execution_count": 10,
   "id": "300294d4-e196-462d-afc1-9b4834d44d50",
   "metadata": {},
   "outputs": [
    {
     "data": {
      "text/html": [
       "<div>\n",
       "<style scoped>\n",
       "    .dataframe tbody tr th:only-of-type {\n",
       "        vertical-align: middle;\n",
       "    }\n",
       "\n",
       "    .dataframe tbody tr th {\n",
       "        vertical-align: top;\n",
       "    }\n",
       "\n",
       "    .dataframe thead th {\n",
       "        text-align: right;\n",
       "    }\n",
       "</style>\n",
       "<table border=\"1\" class=\"dataframe\">\n",
       "  <thead>\n",
       "    <tr style=\"text-align: right;\">\n",
       "      <th></th>\n",
       "      <th>gender</th>\n",
       "      <th>country</th>\n",
       "      <th>age</th>\n",
       "      <th>salary</th>\n",
       "    </tr>\n",
       "  </thead>\n",
       "  <tbody>\n",
       "    <tr>\n",
       "      <th>0</th>\n",
       "      <td>m</td>\n",
       "      <td>Ind</td>\n",
       "      <td>20.0</td>\n",
       "      <td>57000.0</td>\n",
       "    </tr>\n",
       "    <tr>\n",
       "      <th>1</th>\n",
       "      <td>f</td>\n",
       "      <td>Aus</td>\n",
       "      <td>25.0</td>\n",
       "      <td>45000.0</td>\n",
       "    </tr>\n",
       "    <tr>\n",
       "      <th>2</th>\n",
       "      <td>m</td>\n",
       "      <td>China</td>\n",
       "      <td>26.0</td>\n",
       "      <td>56400.0</td>\n",
       "    </tr>\n",
       "    <tr>\n",
       "      <th>3</th>\n",
       "      <td>m</td>\n",
       "      <td>Aus</td>\n",
       "      <td>NaN</td>\n",
       "      <td>32000.0</td>\n",
       "    </tr>\n",
       "    <tr>\n",
       "      <th>4</th>\n",
       "      <td>m</td>\n",
       "      <td>Ind</td>\n",
       "      <td>56.0</td>\n",
       "      <td>78000.0</td>\n",
       "    </tr>\n",
       "    <tr>\n",
       "      <th>5</th>\n",
       "      <td>f</td>\n",
       "      <td>Aus</td>\n",
       "      <td>65.0</td>\n",
       "      <td>64000.0</td>\n",
       "    </tr>\n",
       "    <tr>\n",
       "      <th>6</th>\n",
       "      <td>m</td>\n",
       "      <td>China</td>\n",
       "      <td>19.0</td>\n",
       "      <td>NaN</td>\n",
       "    </tr>\n",
       "    <tr>\n",
       "      <th>7</th>\n",
       "      <td>m</td>\n",
       "      <td>USA</td>\n",
       "      <td>47.0</td>\n",
       "      <td>40000.0</td>\n",
       "    </tr>\n",
       "    <tr>\n",
       "      <th>8</th>\n",
       "      <td>m</td>\n",
       "      <td>Ind</td>\n",
       "      <td>24.0</td>\n",
       "      <td>34000.0</td>\n",
       "    </tr>\n",
       "    <tr>\n",
       "      <th>9</th>\n",
       "      <td>f</td>\n",
       "      <td>China</td>\n",
       "      <td>20.0</td>\n",
       "      <td>45000.0</td>\n",
       "    </tr>\n",
       "  </tbody>\n",
       "</table>\n",
       "</div>"
      ],
      "text/plain": [
       "  gender country   age   salary\n",
       "0      m     Ind  20.0  57000.0\n",
       "1      f     Aus  25.0  45000.0\n",
       "2      m   China  26.0  56400.0\n",
       "3      m     Aus   NaN  32000.0\n",
       "4      m     Ind  56.0  78000.0\n",
       "5      f     Aus  65.0  64000.0\n",
       "6      m   China  19.0      NaN\n",
       "7      m     USA  47.0  40000.0\n",
       "8      m     Ind  24.0  34000.0\n",
       "9      f   China  20.0  45000.0"
      ]
     },
     "execution_count": 10,
     "metadata": {},
     "output_type": "execute_result"
    }
   ],
   "source": [
    "df"
   ]
  },
  {
   "cell_type": "markdown",
   "id": "e659bc3d-0e6e-431b-a871-f8e5108970ae",
   "metadata": {},
   "source": [
    "Handling missing values"
   ]
  },
  {
   "cell_type": "code",
   "execution_count": 11,
   "id": "cdce1d5e-e535-4771-961a-e5e5fffb433d",
   "metadata": {},
   "outputs": [
    {
     "data": {
      "text/plain": [
       "gender     0\n",
       "country    0\n",
       "age        1\n",
       "salary     1\n",
       "dtype: int64"
      ]
     },
     "execution_count": 11,
     "metadata": {},
     "output_type": "execute_result"
    }
   ],
   "source": [
    "# na - not available\n",
    "# nan - not a number\n",
    "pd.isna(df).sum()            #to check if there is None in our data or not"
   ]
  },
  {
   "cell_type": "code",
   "execution_count": 12,
   "id": "4a91bd48-7400-4d32-ab14-938469cc8726",
   "metadata": {},
   "outputs": [
    {
     "data": {
      "text/html": [
       "<div>\n",
       "<style scoped>\n",
       "    .dataframe tbody tr th:only-of-type {\n",
       "        vertical-align: middle;\n",
       "    }\n",
       "\n",
       "    .dataframe tbody tr th {\n",
       "        vertical-align: top;\n",
       "    }\n",
       "\n",
       "    .dataframe thead th {\n",
       "        text-align: right;\n",
       "    }\n",
       "</style>\n",
       "<table border=\"1\" class=\"dataframe\">\n",
       "  <thead>\n",
       "    <tr style=\"text-align: right;\">\n",
       "      <th></th>\n",
       "      <th>gender</th>\n",
       "      <th>country</th>\n",
       "      <th>age</th>\n",
       "      <th>salary</th>\n",
       "    </tr>\n",
       "  </thead>\n",
       "  <tbody>\n",
       "    <tr>\n",
       "      <th>0</th>\n",
       "      <td>m</td>\n",
       "      <td>Ind</td>\n",
       "      <td>20.0</td>\n",
       "      <td>57000.0</td>\n",
       "    </tr>\n",
       "    <tr>\n",
       "      <th>1</th>\n",
       "      <td>f</td>\n",
       "      <td>Aus</td>\n",
       "      <td>25.0</td>\n",
       "      <td>45000.0</td>\n",
       "    </tr>\n",
       "    <tr>\n",
       "      <th>2</th>\n",
       "      <td>m</td>\n",
       "      <td>China</td>\n",
       "      <td>26.0</td>\n",
       "      <td>56400.0</td>\n",
       "    </tr>\n",
       "    <tr>\n",
       "      <th>3</th>\n",
       "      <td>m</td>\n",
       "      <td>Aus</td>\n",
       "      <td>0.0</td>\n",
       "      <td>32000.0</td>\n",
       "    </tr>\n",
       "    <tr>\n",
       "      <th>4</th>\n",
       "      <td>m</td>\n",
       "      <td>Ind</td>\n",
       "      <td>56.0</td>\n",
       "      <td>78000.0</td>\n",
       "    </tr>\n",
       "    <tr>\n",
       "      <th>5</th>\n",
       "      <td>f</td>\n",
       "      <td>Aus</td>\n",
       "      <td>65.0</td>\n",
       "      <td>64000.0</td>\n",
       "    </tr>\n",
       "    <tr>\n",
       "      <th>6</th>\n",
       "      <td>m</td>\n",
       "      <td>China</td>\n",
       "      <td>19.0</td>\n",
       "      <td>0.0</td>\n",
       "    </tr>\n",
       "    <tr>\n",
       "      <th>7</th>\n",
       "      <td>m</td>\n",
       "      <td>USA</td>\n",
       "      <td>47.0</td>\n",
       "      <td>40000.0</td>\n",
       "    </tr>\n",
       "    <tr>\n",
       "      <th>8</th>\n",
       "      <td>m</td>\n",
       "      <td>Ind</td>\n",
       "      <td>24.0</td>\n",
       "      <td>34000.0</td>\n",
       "    </tr>\n",
       "    <tr>\n",
       "      <th>9</th>\n",
       "      <td>f</td>\n",
       "      <td>China</td>\n",
       "      <td>20.0</td>\n",
       "      <td>45000.0</td>\n",
       "    </tr>\n",
       "  </tbody>\n",
       "</table>\n",
       "</div>"
      ],
      "text/plain": [
       "  gender country   age   salary\n",
       "0      m     Ind  20.0  57000.0\n",
       "1      f     Aus  25.0  45000.0\n",
       "2      m   China  26.0  56400.0\n",
       "3      m     Aus   0.0  32000.0\n",
       "4      m     Ind  56.0  78000.0\n",
       "5      f     Aus  65.0  64000.0\n",
       "6      m   China  19.0      0.0\n",
       "7      m     USA  47.0  40000.0\n",
       "8      m     Ind  24.0  34000.0\n",
       "9      f   China  20.0  45000.0"
      ]
     },
     "execution_count": 12,
     "metadata": {},
     "output_type": "execute_result"
    }
   ],
   "source": [
    "df.fillna(0)"
   ]
  },
  {
   "cell_type": "code",
   "execution_count": 13,
   "id": "1f81fc90-8621-4b21-a115-fb0f77cafd07",
   "metadata": {},
   "outputs": [
    {
     "data": {
      "text/plain": [
       "nan"
      ]
     },
     "execution_count": 13,
     "metadata": {},
     "output_type": "execute_result"
    }
   ],
   "source": [
    "np.nan"
   ]
  },
  {
   "cell_type": "code",
   "execution_count": 14,
   "id": "460479bb-49de-4891-9cc5-0003206b8044",
   "metadata": {},
   "outputs": [],
   "source": [
    "imputer = SimpleImputer(missing_values=np.nan ,strategy = 'mean')    #call the imputer function/method itself"
   ]
  },
  {
   "cell_type": "code",
   "execution_count": 15,
   "id": "6aa08292-72b4-41c2-9fb0-6be86c0d54d4",
   "metadata": {},
   "outputs": [],
   "source": [
    "imputer_fit = imputer.fit(df.iloc[:,2:3])    #2 to 3 index          #fit the method "
   ]
  },
  {
   "cell_type": "code",
   "execution_count": 16,
   "id": "d7924467-bc56-443f-af35-c4bcbf1736d5",
   "metadata": {},
   "outputs": [
    {
     "data": {
      "text/plain": [
       "array([[20.        ],\n",
       "       [25.        ],\n",
       "       [26.        ],\n",
       "       [33.55555556],\n",
       "       [56.        ],\n",
       "       [65.        ],\n",
       "       [19.        ],\n",
       "       [47.        ],\n",
       "       [24.        ],\n",
       "       [20.        ]])"
      ]
     },
     "execution_count": 16,
     "metadata": {},
     "output_type": "execute_result"
    }
   ],
   "source": [
    "imputer_fit.transform(df.iloc[:,2:3])               #apply it to our data frame"
   ]
  },
  {
   "cell_type": "code",
   "execution_count": 17,
   "id": "ecfcb5f4-d7d3-40ee-95a5-4923cc7383b5",
   "metadata": {},
   "outputs": [],
   "source": [
    "df.iloc[:,2:3] = imputer.fit_transform(df.iloc[:,2:3])"
   ]
  },
  {
   "cell_type": "code",
   "execution_count": 18,
   "id": "106fde27-53b7-40d6-9fc3-ecbf779dbd7f",
   "metadata": {},
   "outputs": [],
   "source": [
    "df.iloc[:,3:] = imputer.fit_transform(df.iloc[:,3:])"
   ]
  },
  {
   "cell_type": "code",
   "execution_count": 19,
   "id": "fc096a6e-cb82-448d-b7b5-9771c08afed4",
   "metadata": {},
   "outputs": [
    {
     "data": {
      "text/html": [
       "<div>\n",
       "<style scoped>\n",
       "    .dataframe tbody tr th:only-of-type {\n",
       "        vertical-align: middle;\n",
       "    }\n",
       "\n",
       "    .dataframe tbody tr th {\n",
       "        vertical-align: top;\n",
       "    }\n",
       "\n",
       "    .dataframe thead th {\n",
       "        text-align: right;\n",
       "    }\n",
       "</style>\n",
       "<table border=\"1\" class=\"dataframe\">\n",
       "  <thead>\n",
       "    <tr style=\"text-align: right;\">\n",
       "      <th></th>\n",
       "      <th>gender</th>\n",
       "      <th>country</th>\n",
       "      <th>age</th>\n",
       "      <th>salary</th>\n",
       "    </tr>\n",
       "  </thead>\n",
       "  <tbody>\n",
       "    <tr>\n",
       "      <th>0</th>\n",
       "      <td>m</td>\n",
       "      <td>Ind</td>\n",
       "      <td>20.000000</td>\n",
       "      <td>57000.000000</td>\n",
       "    </tr>\n",
       "    <tr>\n",
       "      <th>1</th>\n",
       "      <td>f</td>\n",
       "      <td>Aus</td>\n",
       "      <td>25.000000</td>\n",
       "      <td>45000.000000</td>\n",
       "    </tr>\n",
       "    <tr>\n",
       "      <th>2</th>\n",
       "      <td>m</td>\n",
       "      <td>China</td>\n",
       "      <td>26.000000</td>\n",
       "      <td>56400.000000</td>\n",
       "    </tr>\n",
       "    <tr>\n",
       "      <th>3</th>\n",
       "      <td>m</td>\n",
       "      <td>Aus</td>\n",
       "      <td>33.555556</td>\n",
       "      <td>32000.000000</td>\n",
       "    </tr>\n",
       "    <tr>\n",
       "      <th>4</th>\n",
       "      <td>m</td>\n",
       "      <td>Ind</td>\n",
       "      <td>56.000000</td>\n",
       "      <td>78000.000000</td>\n",
       "    </tr>\n",
       "    <tr>\n",
       "      <th>5</th>\n",
       "      <td>f</td>\n",
       "      <td>Aus</td>\n",
       "      <td>65.000000</td>\n",
       "      <td>64000.000000</td>\n",
       "    </tr>\n",
       "    <tr>\n",
       "      <th>6</th>\n",
       "      <td>m</td>\n",
       "      <td>China</td>\n",
       "      <td>19.000000</td>\n",
       "      <td>50155.555556</td>\n",
       "    </tr>\n",
       "    <tr>\n",
       "      <th>7</th>\n",
       "      <td>m</td>\n",
       "      <td>USA</td>\n",
       "      <td>47.000000</td>\n",
       "      <td>40000.000000</td>\n",
       "    </tr>\n",
       "    <tr>\n",
       "      <th>8</th>\n",
       "      <td>m</td>\n",
       "      <td>Ind</td>\n",
       "      <td>24.000000</td>\n",
       "      <td>34000.000000</td>\n",
       "    </tr>\n",
       "    <tr>\n",
       "      <th>9</th>\n",
       "      <td>f</td>\n",
       "      <td>China</td>\n",
       "      <td>20.000000</td>\n",
       "      <td>45000.000000</td>\n",
       "    </tr>\n",
       "  </tbody>\n",
       "</table>\n",
       "</div>"
      ],
      "text/plain": [
       "  gender country        age        salary\n",
       "0      m     Ind  20.000000  57000.000000\n",
       "1      f     Aus  25.000000  45000.000000\n",
       "2      m   China  26.000000  56400.000000\n",
       "3      m     Aus  33.555556  32000.000000\n",
       "4      m     Ind  56.000000  78000.000000\n",
       "5      f     Aus  65.000000  64000.000000\n",
       "6      m   China  19.000000  50155.555556\n",
       "7      m     USA  47.000000  40000.000000\n",
       "8      m     Ind  24.000000  34000.000000\n",
       "9      f   China  20.000000  45000.000000"
      ]
     },
     "execution_count": 19,
     "metadata": {},
     "output_type": "execute_result"
    }
   ],
   "source": [
    "df"
   ]
  },
  {
   "cell_type": "code",
   "execution_count": 20,
   "id": "faf22c2d-5d47-41a5-8e22-e8ad22f4fc4b",
   "metadata": {},
   "outputs": [
    {
     "data": {
      "text/plain": [
       "array([[20.        ],\n",
       "       [25.        ],\n",
       "       [26.        ],\n",
       "       [33.55555556],\n",
       "       [56.        ],\n",
       "       [65.        ],\n",
       "       [19.        ],\n",
       "       [47.        ],\n",
       "       [24.        ],\n",
       "       [20.        ]])"
      ]
     },
     "execution_count": 20,
     "metadata": {},
     "output_type": "execute_result"
    }
   ],
   "source": [
    "df['age'].values.reshape(-1,1)"
   ]
  },
  {
   "cell_type": "code",
   "execution_count": 21,
   "id": "cc1a0ff8-d775-4726-82b1-a1433f5c53f7",
   "metadata": {},
   "outputs": [],
   "source": [
    "# df.dropna()       #drops the na data"
   ]
  },
  {
   "cell_type": "markdown",
   "id": "219b2782-9a2d-4a6c-a82d-7dd112f7256f",
   "metadata": {},
   "source": [
    "Label Encoding"
   ]
  },
  {
   "cell_type": "code",
   "execution_count": 22,
   "id": "fb684014-ef26-43ba-b986-d79a32bb7385",
   "metadata": {},
   "outputs": [
    {
     "data": {
      "text/html": [
       "<div>\n",
       "<style scoped>\n",
       "    .dataframe tbody tr th:only-of-type {\n",
       "        vertical-align: middle;\n",
       "    }\n",
       "\n",
       "    .dataframe tbody tr th {\n",
       "        vertical-align: top;\n",
       "    }\n",
       "\n",
       "    .dataframe thead th {\n",
       "        text-align: right;\n",
       "    }\n",
       "</style>\n",
       "<table border=\"1\" class=\"dataframe\">\n",
       "  <thead>\n",
       "    <tr style=\"text-align: right;\">\n",
       "      <th></th>\n",
       "      <th>gender</th>\n",
       "      <th>country</th>\n",
       "      <th>age</th>\n",
       "      <th>salary</th>\n",
       "    </tr>\n",
       "  </thead>\n",
       "  <tbody>\n",
       "    <tr>\n",
       "      <th>0</th>\n",
       "      <td>m</td>\n",
       "      <td>Ind</td>\n",
       "      <td>20.000000</td>\n",
       "      <td>57000.0</td>\n",
       "    </tr>\n",
       "    <tr>\n",
       "      <th>1</th>\n",
       "      <td>f</td>\n",
       "      <td>Aus</td>\n",
       "      <td>25.000000</td>\n",
       "      <td>45000.0</td>\n",
       "    </tr>\n",
       "    <tr>\n",
       "      <th>2</th>\n",
       "      <td>m</td>\n",
       "      <td>China</td>\n",
       "      <td>26.000000</td>\n",
       "      <td>56400.0</td>\n",
       "    </tr>\n",
       "    <tr>\n",
       "      <th>3</th>\n",
       "      <td>m</td>\n",
       "      <td>Aus</td>\n",
       "      <td>33.555556</td>\n",
       "      <td>32000.0</td>\n",
       "    </tr>\n",
       "    <tr>\n",
       "      <th>4</th>\n",
       "      <td>m</td>\n",
       "      <td>Ind</td>\n",
       "      <td>56.000000</td>\n",
       "      <td>78000.0</td>\n",
       "    </tr>\n",
       "  </tbody>\n",
       "</table>\n",
       "</div>"
      ],
      "text/plain": [
       "  gender country        age   salary\n",
       "0      m     Ind  20.000000  57000.0\n",
       "1      f     Aus  25.000000  45000.0\n",
       "2      m   China  26.000000  56400.0\n",
       "3      m     Aus  33.555556  32000.0\n",
       "4      m     Ind  56.000000  78000.0"
      ]
     },
     "execution_count": 22,
     "metadata": {},
     "output_type": "execute_result"
    }
   ],
   "source": [
    "df.head()"
   ]
  },
  {
   "cell_type": "code",
   "execution_count": 23,
   "id": "eb5f62a2-7292-4351-86bd-423af5949b12",
   "metadata": {},
   "outputs": [],
   "source": [
    "label = LabelEncoder()          #calling the method\n",
    "df['gender'] = label.fit_transform(df['gender'])             #applying the method"
   ]
  },
  {
   "cell_type": "code",
   "execution_count": 24,
   "id": "4a68d644-7d69-43da-bae3-58c7a92dd7c7",
   "metadata": {},
   "outputs": [
    {
     "data": {
      "text/html": [
       "<div>\n",
       "<style scoped>\n",
       "    .dataframe tbody tr th:only-of-type {\n",
       "        vertical-align: middle;\n",
       "    }\n",
       "\n",
       "    .dataframe tbody tr th {\n",
       "        vertical-align: top;\n",
       "    }\n",
       "\n",
       "    .dataframe thead th {\n",
       "        text-align: right;\n",
       "    }\n",
       "</style>\n",
       "<table border=\"1\" class=\"dataframe\">\n",
       "  <thead>\n",
       "    <tr style=\"text-align: right;\">\n",
       "      <th></th>\n",
       "      <th>gender</th>\n",
       "      <th>country</th>\n",
       "      <th>age</th>\n",
       "      <th>salary</th>\n",
       "    </tr>\n",
       "  </thead>\n",
       "  <tbody>\n",
       "    <tr>\n",
       "      <th>0</th>\n",
       "      <td>1</td>\n",
       "      <td>Ind</td>\n",
       "      <td>20.000000</td>\n",
       "      <td>57000.0</td>\n",
       "    </tr>\n",
       "    <tr>\n",
       "      <th>1</th>\n",
       "      <td>0</td>\n",
       "      <td>Aus</td>\n",
       "      <td>25.000000</td>\n",
       "      <td>45000.0</td>\n",
       "    </tr>\n",
       "    <tr>\n",
       "      <th>2</th>\n",
       "      <td>1</td>\n",
       "      <td>China</td>\n",
       "      <td>26.000000</td>\n",
       "      <td>56400.0</td>\n",
       "    </tr>\n",
       "    <tr>\n",
       "      <th>3</th>\n",
       "      <td>1</td>\n",
       "      <td>Aus</td>\n",
       "      <td>33.555556</td>\n",
       "      <td>32000.0</td>\n",
       "    </tr>\n",
       "    <tr>\n",
       "      <th>4</th>\n",
       "      <td>1</td>\n",
       "      <td>Ind</td>\n",
       "      <td>56.000000</td>\n",
       "      <td>78000.0</td>\n",
       "    </tr>\n",
       "  </tbody>\n",
       "</table>\n",
       "</div>"
      ],
      "text/plain": [
       "   gender country        age   salary\n",
       "0       1     Ind  20.000000  57000.0\n",
       "1       0     Aus  25.000000  45000.0\n",
       "2       1   China  26.000000  56400.0\n",
       "3       1     Aus  33.555556  32000.0\n",
       "4       1     Ind  56.000000  78000.0"
      ]
     },
     "execution_count": 24,
     "metadata": {},
     "output_type": "execute_result"
    }
   ],
   "source": [
    "df.head()              # m =1 and f = 0"
   ]
  },
  {
   "cell_type": "code",
   "execution_count": 25,
   "id": "ee2035ab-c27a-4231-983d-c71975a05baa",
   "metadata": {},
   "outputs": [],
   "source": [
    "country = label.fit_transform(df['country'])"
   ]
  },
  {
   "cell_type": "code",
   "execution_count": 26,
   "id": "e1a0e0d0-cc33-43af-804e-e02a4a114e1f",
   "metadata": {},
   "outputs": [
    {
     "data": {
      "text/plain": [
       "array([2, 0, 1, 0, 2, 0, 1, 3, 2, 1])"
      ]
     },
     "execution_count": 26,
     "metadata": {},
     "output_type": "execute_result"
    }
   ],
   "source": [
    "country\n",
    "# Ind - 2\n",
    "# Aus - 0\n",
    "# China -1 \n",
    "# USA - 3 \n",
    "#by default it assigns values alphabetically "
   ]
  },
  {
   "cell_type": "code",
   "execution_count": 27,
   "id": "0459b4aa-47c0-42b9-900d-e95d93e29fd9",
   "metadata": {},
   "outputs": [],
   "source": [
    "onehot = OneHotEncoder()\n",
    "country = onehot.fit_transform(country.reshape(-1,1))     #if you want to make a sparse matrix "
   ]
  },
  {
   "cell_type": "code",
   "execution_count": 28,
   "id": "7a31f9f5-80cb-4f7d-a43c-9322229f5444",
   "metadata": {},
   "outputs": [
    {
     "data": {
      "text/plain": [
       "<10x4 sparse matrix of type '<class 'numpy.float64'>'\n",
       "\twith 10 stored elements in Compressed Sparse Row format>"
      ]
     },
     "execution_count": 28,
     "metadata": {},
     "output_type": "execute_result"
    }
   ],
   "source": [
    "country"
   ]
  },
  {
   "cell_type": "code",
   "execution_count": 29,
   "id": "3c831ad5-6612-4b36-973a-602fc35a2f78",
   "metadata": {},
   "outputs": [
    {
     "data": {
      "text/plain": [
       "array([[0., 0., 1., 0.],\n",
       "       [1., 0., 0., 0.],\n",
       "       [0., 1., 0., 0.],\n",
       "       [1., 0., 0., 0.],\n",
       "       [0., 0., 1., 0.],\n",
       "       [1., 0., 0., 0.],\n",
       "       [0., 1., 0., 0.],\n",
       "       [0., 0., 0., 1.],\n",
       "       [0., 0., 1., 0.],\n",
       "       [0., 1., 0., 0.]])"
      ]
     },
     "execution_count": 29,
     "metadata": {},
     "output_type": "execute_result"
    }
   ],
   "source": [
    "country.toarray()                #sparse matrix of 10 x 4 \n",
    "                                # 1 means value and 0 means no value"
   ]
  },
  {
   "cell_type": "code",
   "execution_count": 30,
   "id": "51f575aa-32ae-43e5-a37e-aae0143abc5b",
   "metadata": {},
   "outputs": [
    {
     "data": {
      "text/plain": [
       "(10, 4)"
      ]
     },
     "execution_count": 30,
     "metadata": {},
     "output_type": "execute_result"
    }
   ],
   "source": [
    "country.shape"
   ]
  },
  {
   "cell_type": "code",
   "execution_count": 31,
   "id": "ae8bdd43-64d6-4039-be3f-43cd9db5c7bf",
   "metadata": {},
   "outputs": [
    {
     "data": {
      "text/plain": [
       "2"
      ]
     },
     "execution_count": 31,
     "metadata": {},
     "output_type": "execute_result"
    }
   ],
   "source": [
    "country.ndim"
   ]
  },
  {
   "cell_type": "markdown",
   "id": "799eee85-cea1-4bdc-a84c-5cc73239dbab",
   "metadata": {},
   "source": [
    "Feature scaling"
   ]
  },
  {
   "cell_type": "code",
   "execution_count": 32,
   "id": "90088f9b-af42-4681-a382-8d37e0b416fa",
   "metadata": {},
   "outputs": [],
   "source": [
    "# MinmaxScaler - Normalization\n",
    "# StandardScaler - Standardization"
   ]
  },
  {
   "cell_type": "code",
   "execution_count": 33,
   "id": "8ea42437-c390-4a49-802c-a0114e6c132a",
   "metadata": {},
   "outputs": [
    {
     "data": {
      "text/html": [
       "<div>\n",
       "<style scoped>\n",
       "    .dataframe tbody tr th:only-of-type {\n",
       "        vertical-align: middle;\n",
       "    }\n",
       "\n",
       "    .dataframe tbody tr th {\n",
       "        vertical-align: top;\n",
       "    }\n",
       "\n",
       "    .dataframe thead th {\n",
       "        text-align: right;\n",
       "    }\n",
       "</style>\n",
       "<table border=\"1\" class=\"dataframe\">\n",
       "  <thead>\n",
       "    <tr style=\"text-align: right;\">\n",
       "      <th></th>\n",
       "      <th>gender</th>\n",
       "      <th>country</th>\n",
       "      <th>age</th>\n",
       "      <th>salary</th>\n",
       "    </tr>\n",
       "  </thead>\n",
       "  <tbody>\n",
       "    <tr>\n",
       "      <th>0</th>\n",
       "      <td>1</td>\n",
       "      <td>Ind</td>\n",
       "      <td>20.000000</td>\n",
       "      <td>57000.000000</td>\n",
       "    </tr>\n",
       "    <tr>\n",
       "      <th>1</th>\n",
       "      <td>0</td>\n",
       "      <td>Aus</td>\n",
       "      <td>25.000000</td>\n",
       "      <td>45000.000000</td>\n",
       "    </tr>\n",
       "    <tr>\n",
       "      <th>2</th>\n",
       "      <td>1</td>\n",
       "      <td>China</td>\n",
       "      <td>26.000000</td>\n",
       "      <td>56400.000000</td>\n",
       "    </tr>\n",
       "    <tr>\n",
       "      <th>3</th>\n",
       "      <td>1</td>\n",
       "      <td>Aus</td>\n",
       "      <td>33.555556</td>\n",
       "      <td>32000.000000</td>\n",
       "    </tr>\n",
       "    <tr>\n",
       "      <th>4</th>\n",
       "      <td>1</td>\n",
       "      <td>Ind</td>\n",
       "      <td>56.000000</td>\n",
       "      <td>78000.000000</td>\n",
       "    </tr>\n",
       "    <tr>\n",
       "      <th>5</th>\n",
       "      <td>0</td>\n",
       "      <td>Aus</td>\n",
       "      <td>65.000000</td>\n",
       "      <td>64000.000000</td>\n",
       "    </tr>\n",
       "    <tr>\n",
       "      <th>6</th>\n",
       "      <td>1</td>\n",
       "      <td>China</td>\n",
       "      <td>19.000000</td>\n",
       "      <td>50155.555556</td>\n",
       "    </tr>\n",
       "    <tr>\n",
       "      <th>7</th>\n",
       "      <td>1</td>\n",
       "      <td>USA</td>\n",
       "      <td>47.000000</td>\n",
       "      <td>40000.000000</td>\n",
       "    </tr>\n",
       "    <tr>\n",
       "      <th>8</th>\n",
       "      <td>1</td>\n",
       "      <td>Ind</td>\n",
       "      <td>24.000000</td>\n",
       "      <td>34000.000000</td>\n",
       "    </tr>\n",
       "    <tr>\n",
       "      <th>9</th>\n",
       "      <td>0</td>\n",
       "      <td>China</td>\n",
       "      <td>20.000000</td>\n",
       "      <td>45000.000000</td>\n",
       "    </tr>\n",
       "  </tbody>\n",
       "</table>\n",
       "</div>"
      ],
      "text/plain": [
       "   gender country        age        salary\n",
       "0       1     Ind  20.000000  57000.000000\n",
       "1       0     Aus  25.000000  45000.000000\n",
       "2       1   China  26.000000  56400.000000\n",
       "3       1     Aus  33.555556  32000.000000\n",
       "4       1     Ind  56.000000  78000.000000\n",
       "5       0     Aus  65.000000  64000.000000\n",
       "6       1   China  19.000000  50155.555556\n",
       "7       1     USA  47.000000  40000.000000\n",
       "8       1     Ind  24.000000  34000.000000\n",
       "9       0   China  20.000000  45000.000000"
      ]
     },
     "execution_count": 33,
     "metadata": {},
     "output_type": "execute_result"
    }
   ],
   "source": [
    "df"
   ]
  },
  {
   "cell_type": "code",
   "execution_count": 34,
   "id": "e31c6ce6-fbd4-40d3-8503-bbb46072440e",
   "metadata": {},
   "outputs": [
    {
     "data": {
      "text/plain": [
       "16.580518093440674"
      ]
     },
     "execution_count": 34,
     "metadata": {},
     "output_type": "execute_result"
    }
   ],
   "source": [
    "df['age'].std()      #variation in our data"
   ]
  },
  {
   "cell_type": "code",
   "execution_count": 35,
   "id": "5ecc3e6f-7451-481b-86ef-0f2c3ed8c152",
   "metadata": {},
   "outputs": [],
   "source": [
    "# for item in df['age']:\n",
    "#     print(item)"
   ]
  },
  {
   "cell_type": "code",
   "execution_count": 36,
   "id": "5e36d9eb-0a9b-403d-b793-b60f26c12ad0",
   "metadata": {},
   "outputs": [
    {
     "name": "stderr",
     "output_type": "stream",
     "text": [
      "c:\\users\\amaan saifi\\appdata\\local\\programs\\python\\python39\\lib\\site-packages\\pandas\\core\\indexing.py:1637: SettingWithCopyWarning: \n",
      "A value is trying to be set on a copy of a slice from a DataFrame\n",
      "\n",
      "See the caveats in the documentation: https://pandas.pydata.org/pandas-docs/stable/user_guide/indexing.html#returning-a-view-versus-a-copy\n",
      "  self._setitem_single_block(indexer, value, name)\n"
     ]
    }
   ],
   "source": [
    "for i in range(len(df)):\n",
    "    df['age'].iloc[i] = df['age'].iloc[i] + 4"
   ]
  },
  {
   "cell_type": "code",
   "execution_count": 37,
   "id": "7bf25d2c-95e5-4d7f-9fbe-fef6390e8a7b",
   "metadata": {},
   "outputs": [
    {
     "data": {
      "text/html": [
       "<div>\n",
       "<style scoped>\n",
       "    .dataframe tbody tr th:only-of-type {\n",
       "        vertical-align: middle;\n",
       "    }\n",
       "\n",
       "    .dataframe tbody tr th {\n",
       "        vertical-align: top;\n",
       "    }\n",
       "\n",
       "    .dataframe thead th {\n",
       "        text-align: right;\n",
       "    }\n",
       "</style>\n",
       "<table border=\"1\" class=\"dataframe\">\n",
       "  <thead>\n",
       "    <tr style=\"text-align: right;\">\n",
       "      <th></th>\n",
       "      <th>gender</th>\n",
       "      <th>country</th>\n",
       "      <th>age</th>\n",
       "      <th>salary</th>\n",
       "    </tr>\n",
       "  </thead>\n",
       "  <tbody>\n",
       "    <tr>\n",
       "      <th>0</th>\n",
       "      <td>1</td>\n",
       "      <td>Ind</td>\n",
       "      <td>24.000000</td>\n",
       "      <td>57000.000000</td>\n",
       "    </tr>\n",
       "    <tr>\n",
       "      <th>1</th>\n",
       "      <td>0</td>\n",
       "      <td>Aus</td>\n",
       "      <td>29.000000</td>\n",
       "      <td>45000.000000</td>\n",
       "    </tr>\n",
       "    <tr>\n",
       "      <th>2</th>\n",
       "      <td>1</td>\n",
       "      <td>China</td>\n",
       "      <td>30.000000</td>\n",
       "      <td>56400.000000</td>\n",
       "    </tr>\n",
       "    <tr>\n",
       "      <th>3</th>\n",
       "      <td>1</td>\n",
       "      <td>Aus</td>\n",
       "      <td>37.555556</td>\n",
       "      <td>32000.000000</td>\n",
       "    </tr>\n",
       "    <tr>\n",
       "      <th>4</th>\n",
       "      <td>1</td>\n",
       "      <td>Ind</td>\n",
       "      <td>60.000000</td>\n",
       "      <td>78000.000000</td>\n",
       "    </tr>\n",
       "    <tr>\n",
       "      <th>5</th>\n",
       "      <td>0</td>\n",
       "      <td>Aus</td>\n",
       "      <td>69.000000</td>\n",
       "      <td>64000.000000</td>\n",
       "    </tr>\n",
       "    <tr>\n",
       "      <th>6</th>\n",
       "      <td>1</td>\n",
       "      <td>China</td>\n",
       "      <td>23.000000</td>\n",
       "      <td>50155.555556</td>\n",
       "    </tr>\n",
       "    <tr>\n",
       "      <th>7</th>\n",
       "      <td>1</td>\n",
       "      <td>USA</td>\n",
       "      <td>51.000000</td>\n",
       "      <td>40000.000000</td>\n",
       "    </tr>\n",
       "    <tr>\n",
       "      <th>8</th>\n",
       "      <td>1</td>\n",
       "      <td>Ind</td>\n",
       "      <td>28.000000</td>\n",
       "      <td>34000.000000</td>\n",
       "    </tr>\n",
       "    <tr>\n",
       "      <th>9</th>\n",
       "      <td>0</td>\n",
       "      <td>China</td>\n",
       "      <td>24.000000</td>\n",
       "      <td>45000.000000</td>\n",
       "    </tr>\n",
       "  </tbody>\n",
       "</table>\n",
       "</div>"
      ],
      "text/plain": [
       "   gender country        age        salary\n",
       "0       1     Ind  24.000000  57000.000000\n",
       "1       0     Aus  29.000000  45000.000000\n",
       "2       1   China  30.000000  56400.000000\n",
       "3       1     Aus  37.555556  32000.000000\n",
       "4       1     Ind  60.000000  78000.000000\n",
       "5       0     Aus  69.000000  64000.000000\n",
       "6       1   China  23.000000  50155.555556\n",
       "7       1     USA  51.000000  40000.000000\n",
       "8       1     Ind  28.000000  34000.000000\n",
       "9       0   China  24.000000  45000.000000"
      ]
     },
     "execution_count": 37,
     "metadata": {},
     "output_type": "execute_result"
    }
   ],
   "source": [
    "df"
   ]
  },
  {
   "cell_type": "code",
   "execution_count": 38,
   "id": "56591684-46eb-40c7-8946-d0349b691a0d",
   "metadata": {},
   "outputs": [
    {
     "data": {
      "text/plain": [
       "16.580518093440674"
      ]
     },
     "execution_count": 38,
     "metadata": {},
     "output_type": "execute_result"
    }
   ],
   "source": [
    "df['age'].std() "
   ]
  },
  {
   "cell_type": "code",
   "execution_count": 39,
   "id": "64d5b752-1c61-41d8-994f-8e34531acef7",
   "metadata": {},
   "outputs": [],
   "source": [
    "minmax = MinMaxScaler()\n",
    "M = minmax.fit_transform(df.iloc[:,2:3])           #Scaled down our data"
   ]
  },
  {
   "cell_type": "code",
   "execution_count": 40,
   "id": "bc2ff8a3-3e9b-46d0-a756-8551915eb07f",
   "metadata": {},
   "outputs": [
    {
     "data": {
      "text/plain": [
       "array([[0.02173913],\n",
       "       [0.13043478],\n",
       "       [0.15217391],\n",
       "       [0.31642512],\n",
       "       [0.80434783],\n",
       "       [1.        ],\n",
       "       [0.        ],\n",
       "       [0.60869565],\n",
       "       [0.10869565],\n",
       "       [0.02173913]])"
      ]
     },
     "execution_count": 40,
     "metadata": {},
     "output_type": "execute_result"
    }
   ],
   "source": [
    "M      #data comes out to be between 0 and 1 both included"
   ]
  },
  {
   "cell_type": "code",
   "execution_count": 41,
   "id": "e5a8ca40-0458-4955-9a1b-f3ea447a90d8",
   "metadata": {},
   "outputs": [],
   "source": [
    "sc =  StandardScaler()\n",
    "S = sc.fit_transform(df.iloc[:,2:3])"
   ]
  },
  {
   "cell_type": "code",
   "execution_count": 42,
   "id": "e71de5cf-8912-4706-a260-ad7555b13407",
   "metadata": {},
   "outputs": [
    {
     "data": {
      "text/plain": [
       "array([[-0.86178309],\n",
       "       [-0.54391228],\n",
       "       [-0.48033812],\n",
       "       [ 0.        ],\n",
       "       [ 1.42688676],\n",
       "       [ 1.99905422],\n",
       "       [-0.92535726],\n",
       "       [ 0.8547193 ],\n",
       "       [-0.60748644],\n",
       "       [-0.86178309]])"
      ]
     },
     "execution_count": 42,
     "metadata": {},
     "output_type": "execute_result"
    }
   ],
   "source": [
    "S"
   ]
  },
  {
   "cell_type": "markdown",
   "id": "f20fc8c0-459a-4169-b486-501b9280c0f1",
   "metadata": {},
   "source": [
    "Train Test Split"
   ]
  },
  {
   "cell_type": "code",
   "execution_count": 43,
   "id": "da1d8fc1-d900-46fb-9970-092c55c76047",
   "metadata": {},
   "outputs": [
    {
     "data": {
      "text/html": [
       "<div>\n",
       "<style scoped>\n",
       "    .dataframe tbody tr th:only-of-type {\n",
       "        vertical-align: middle;\n",
       "    }\n",
       "\n",
       "    .dataframe tbody tr th {\n",
       "        vertical-align: top;\n",
       "    }\n",
       "\n",
       "    .dataframe thead th {\n",
       "        text-align: right;\n",
       "    }\n",
       "</style>\n",
       "<table border=\"1\" class=\"dataframe\">\n",
       "  <thead>\n",
       "    <tr style=\"text-align: right;\">\n",
       "      <th></th>\n",
       "      <th>gender</th>\n",
       "      <th>country</th>\n",
       "      <th>age</th>\n",
       "      <th>salary</th>\n",
       "    </tr>\n",
       "  </thead>\n",
       "  <tbody>\n",
       "    <tr>\n",
       "      <th>0</th>\n",
       "      <td>1</td>\n",
       "      <td>Ind</td>\n",
       "      <td>24.000000</td>\n",
       "      <td>57000.000000</td>\n",
       "    </tr>\n",
       "    <tr>\n",
       "      <th>1</th>\n",
       "      <td>0</td>\n",
       "      <td>Aus</td>\n",
       "      <td>29.000000</td>\n",
       "      <td>45000.000000</td>\n",
       "    </tr>\n",
       "    <tr>\n",
       "      <th>2</th>\n",
       "      <td>1</td>\n",
       "      <td>China</td>\n",
       "      <td>30.000000</td>\n",
       "      <td>56400.000000</td>\n",
       "    </tr>\n",
       "    <tr>\n",
       "      <th>3</th>\n",
       "      <td>1</td>\n",
       "      <td>Aus</td>\n",
       "      <td>37.555556</td>\n",
       "      <td>32000.000000</td>\n",
       "    </tr>\n",
       "    <tr>\n",
       "      <th>4</th>\n",
       "      <td>1</td>\n",
       "      <td>Ind</td>\n",
       "      <td>60.000000</td>\n",
       "      <td>78000.000000</td>\n",
       "    </tr>\n",
       "    <tr>\n",
       "      <th>5</th>\n",
       "      <td>0</td>\n",
       "      <td>Aus</td>\n",
       "      <td>69.000000</td>\n",
       "      <td>64000.000000</td>\n",
       "    </tr>\n",
       "    <tr>\n",
       "      <th>6</th>\n",
       "      <td>1</td>\n",
       "      <td>China</td>\n",
       "      <td>23.000000</td>\n",
       "      <td>50155.555556</td>\n",
       "    </tr>\n",
       "    <tr>\n",
       "      <th>7</th>\n",
       "      <td>1</td>\n",
       "      <td>USA</td>\n",
       "      <td>51.000000</td>\n",
       "      <td>40000.000000</td>\n",
       "    </tr>\n",
       "    <tr>\n",
       "      <th>8</th>\n",
       "      <td>1</td>\n",
       "      <td>Ind</td>\n",
       "      <td>28.000000</td>\n",
       "      <td>34000.000000</td>\n",
       "    </tr>\n",
       "    <tr>\n",
       "      <th>9</th>\n",
       "      <td>0</td>\n",
       "      <td>China</td>\n",
       "      <td>24.000000</td>\n",
       "      <td>45000.000000</td>\n",
       "    </tr>\n",
       "  </tbody>\n",
       "</table>\n",
       "</div>"
      ],
      "text/plain": [
       "   gender country        age        salary\n",
       "0       1     Ind  24.000000  57000.000000\n",
       "1       0     Aus  29.000000  45000.000000\n",
       "2       1   China  30.000000  56400.000000\n",
       "3       1     Aus  37.555556  32000.000000\n",
       "4       1     Ind  60.000000  78000.000000\n",
       "5       0     Aus  69.000000  64000.000000\n",
       "6       1   China  23.000000  50155.555556\n",
       "7       1     USA  51.000000  40000.000000\n",
       "8       1     Ind  28.000000  34000.000000\n",
       "9       0   China  24.000000  45000.000000"
      ]
     },
     "execution_count": 43,
     "metadata": {},
     "output_type": "execute_result"
    }
   ],
   "source": [
    "df"
   ]
  },
  {
   "cell_type": "code",
   "execution_count": 44,
   "id": "c15d659d-5dd0-4385-abcd-68212a7ff25e",
   "metadata": {},
   "outputs": [],
   "source": [
    "X = df[['gender','country','age']]\n",
    "y = df['salary']\n",
    "\n",
    "x_train,x_test,y_train,y_test = train_test_split(X,y,test_size=0.25)"
   ]
  },
  {
   "cell_type": "code",
   "execution_count": 49,
   "id": "dec0863f-10e3-4db4-b701-40ffbc932328",
   "metadata": {},
   "outputs": [
    {
     "data": {
      "text/plain": [
       "(7, 3)"
      ]
     },
     "execution_count": 49,
     "metadata": {},
     "output_type": "execute_result"
    }
   ],
   "source": [
    "x_train.shape"
   ]
  },
  {
   "cell_type": "code",
   "execution_count": 50,
   "id": "e77ed12b-59e1-4a44-aea1-a78d9ee43c3a",
   "metadata": {},
   "outputs": [
    {
     "data": {
      "text/plain": [
       "(3, 3)"
      ]
     },
     "execution_count": 50,
     "metadata": {},
     "output_type": "execute_result"
    }
   ],
   "source": [
    "x_test.shape"
   ]
  },
  {
   "cell_type": "code",
   "execution_count": 54,
   "id": "f8262497-9c78-49a0-9011-69f172be914f",
   "metadata": {},
   "outputs": [
    {
     "data": {
      "text/plain": [
       "(7,)"
      ]
     },
     "execution_count": 54,
     "metadata": {},
     "output_type": "execute_result"
    }
   ],
   "source": [
    "y_train.shape"
   ]
  },
  {
   "cell_type": "code",
   "execution_count": 55,
   "id": "fbb12ac9-d9b4-456a-aa66-0f6289138a39",
   "metadata": {},
   "outputs": [
    {
     "data": {
      "text/plain": [
       "(3,)"
      ]
     },
     "execution_count": 55,
     "metadata": {},
     "output_type": "execute_result"
    }
   ],
   "source": [
    "y_test.shape"
   ]
  },
  {
   "cell_type": "code",
   "execution_count": 56,
   "id": "44adbf96-2392-43c5-9286-15418eff980c",
   "metadata": {},
   "outputs": [
    {
     "data": {
      "text/html": [
       "<div>\n",
       "<style scoped>\n",
       "    .dataframe tbody tr th:only-of-type {\n",
       "        vertical-align: middle;\n",
       "    }\n",
       "\n",
       "    .dataframe tbody tr th {\n",
       "        vertical-align: top;\n",
       "    }\n",
       "\n",
       "    .dataframe thead th {\n",
       "        text-align: right;\n",
       "    }\n",
       "</style>\n",
       "<table border=\"1\" class=\"dataframe\">\n",
       "  <thead>\n",
       "    <tr style=\"text-align: right;\">\n",
       "      <th></th>\n",
       "      <th>gender</th>\n",
       "      <th>country</th>\n",
       "      <th>age</th>\n",
       "    </tr>\n",
       "  </thead>\n",
       "  <tbody>\n",
       "    <tr>\n",
       "      <th>8</th>\n",
       "      <td>1</td>\n",
       "      <td>Ind</td>\n",
       "      <td>28.000000</td>\n",
       "    </tr>\n",
       "    <tr>\n",
       "      <th>3</th>\n",
       "      <td>1</td>\n",
       "      <td>Aus</td>\n",
       "      <td>37.555556</td>\n",
       "    </tr>\n",
       "    <tr>\n",
       "      <th>6</th>\n",
       "      <td>1</td>\n",
       "      <td>China</td>\n",
       "      <td>23.000000</td>\n",
       "    </tr>\n",
       "    <tr>\n",
       "      <th>0</th>\n",
       "      <td>1</td>\n",
       "      <td>Ind</td>\n",
       "      <td>24.000000</td>\n",
       "    </tr>\n",
       "    <tr>\n",
       "      <th>2</th>\n",
       "      <td>1</td>\n",
       "      <td>China</td>\n",
       "      <td>30.000000</td>\n",
       "    </tr>\n",
       "    <tr>\n",
       "      <th>9</th>\n",
       "      <td>0</td>\n",
       "      <td>China</td>\n",
       "      <td>24.000000</td>\n",
       "    </tr>\n",
       "    <tr>\n",
       "      <th>1</th>\n",
       "      <td>0</td>\n",
       "      <td>Aus</td>\n",
       "      <td>29.000000</td>\n",
       "    </tr>\n",
       "  </tbody>\n",
       "</table>\n",
       "</div>"
      ],
      "text/plain": [
       "   gender country        age\n",
       "8       1     Ind  28.000000\n",
       "3       1     Aus  37.555556\n",
       "6       1   China  23.000000\n",
       "0       1     Ind  24.000000\n",
       "2       1   China  30.000000\n",
       "9       0   China  24.000000\n",
       "1       0     Aus  29.000000"
      ]
     },
     "execution_count": 56,
     "metadata": {},
     "output_type": "execute_result"
    }
   ],
   "source": [
    "x_train"
   ]
  },
  {
   "cell_type": "code",
   "execution_count": null,
   "id": "c229e3f4-073a-49ab-a845-c0245fbcd592",
   "metadata": {},
   "outputs": [],
   "source": []
  }
 ],
 "metadata": {
  "kernelspec": {
   "display_name": "Python 3 (ipykernel)",
   "language": "python",
   "name": "python3"
  },
  "language_info": {
   "codemirror_mode": {
    "name": "ipython",
    "version": 3
   },
   "file_extension": ".py",
   "mimetype": "text/x-python",
   "name": "python",
   "nbconvert_exporter": "python",
   "pygments_lexer": "ipython3",
   "version": "3.9.6"
  }
 },
 "nbformat": 4,
 "nbformat_minor": 5
}
